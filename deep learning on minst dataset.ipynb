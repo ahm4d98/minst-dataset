{
 "cells": [
  {
   "cell_type": "markdown",
   "metadata": {},
   "source": [
    "# importing necessary libraries"
   ]
  },
  {
   "cell_type": "code",
   "execution_count": 11,
   "metadata": {},
   "outputs": [],
   "source": [
    "from sklearn.datasets import fetch_openml\n",
    "from sklearn.model_selection import train_test_split\n",
    "import tensorflow as tf\n",
    "from tensorflow import keras"
   ]
  },
  {
   "cell_type": "markdown",
   "metadata": {},
   "source": [
    "# load dataset"
   ]
  },
  {
   "cell_type": "code",
   "execution_count": 12,
   "metadata": {},
   "outputs": [],
   "source": [
    "mnist = fetch_openml('mnist_784', version=1)"
   ]
  },
  {
   "cell_type": "code",
   "execution_count": 13,
   "metadata": {},
   "outputs": [],
   "source": [
    "x,y=mnist['data'],mnist['target']"
   ]
  },
  {
   "cell_type": "code",
   "execution_count": 14,
   "metadata": {},
   "outputs": [],
   "source": [
    "x=x/255."
   ]
  },
  {
   "cell_type": "code",
   "execution_count": 16,
   "metadata": {},
   "outputs": [],
   "source": [
    "y=y.astype(float)"
   ]
  },
  {
   "cell_type": "code",
   "execution_count": 23,
   "metadata": {},
   "outputs": [],
   "source": [
    "x_train, x_test, y_train, y_test=train_test_split(x,y)\n",
    "x_t,x_valid,y_t,y_valid=train_test_split(x_train,y_train)"
   ]
  },
  {
   "cell_type": "markdown",
   "metadata": {},
   "source": [
    "# building model "
   ]
  },
  {
   "cell_type": "code",
   "execution_count": 18,
   "metadata": {},
   "outputs": [],
   "source": [
    "model = keras.models.Sequential([\n",
    "    keras.layers.Flatten(input_shape=[28, 28]),\n",
    "    keras.layers.Dense(300, activation=\"relu\"),\n",
    "    keras.layers.Dense(100, activation=\"relu\"),\n",
    "    keras.layers.Dense(10, activation=\"softmax\")])"
   ]
  },
  {
   "cell_type": "code",
   "execution_count": 32,
   "metadata": {},
   "outputs": [],
   "source": [
    "model.compile(loss=\"sparse_categorical_crossentropy\",optimizer=keras.optimizers.SGD(learning_rate=0.01), metrics=[\"accuracy\"])"
   ]
  },
  {
   "cell_type": "code",
   "execution_count": 33,
   "metadata": {},
   "outputs": [],
   "source": [
    "early_stopping_cb = keras.callbacks.EarlyStopping(patience=20)"
   ]
  },
  {
   "cell_type": "code",
   "execution_count": 36,
   "metadata": {},
   "outputs": [
    {
     "name": "stdout",
     "output_type": "stream",
     "text": [
      "Epoch 1/120\n",
      "1231/1231 [==============================] - 1s 862us/step - loss: 0.0070 - accuracy: 0.9996 - val_loss: 0.0909 - val_accuracy: 0.9747\n",
      "Epoch 2/120\n",
      "1231/1231 [==============================] - 1s 852us/step - loss: 0.0067 - accuracy: 0.9998 - val_loss: 0.0903 - val_accuracy: 0.9755\n",
      "Epoch 3/120\n",
      "1231/1231 [==============================] - 1s 873us/step - loss: 0.0065 - accuracy: 0.9997 - val_loss: 0.0917 - val_accuracy: 0.9750\n",
      "Epoch 4/120\n",
      "1231/1231 [==============================] - 1s 916us/step - loss: 0.0063 - accuracy: 0.9998 - val_loss: 0.0907 - val_accuracy: 0.9755\n",
      "Epoch 5/120\n",
      "1231/1231 [==============================] - 1s 872us/step - loss: 0.0061 - accuracy: 0.9998 - val_loss: 0.0913 - val_accuracy: 0.9755\n",
      "Epoch 6/120\n",
      "1231/1231 [==============================] - 1s 869us/step - loss: 0.0059 - accuracy: 0.9998 - val_loss: 0.0912 - val_accuracy: 0.9755\n",
      "Epoch 7/120\n",
      "1231/1231 [==============================] - 1s 879us/step - loss: 0.0058 - accuracy: 0.9998 - val_loss: 0.0910 - val_accuracy: 0.9756\n",
      "Epoch 8/120\n",
      "1231/1231 [==============================] - 1s 858us/step - loss: 0.0055 - accuracy: 0.9999 - val_loss: 0.0911 - val_accuracy: 0.9753\n",
      "Epoch 9/120\n",
      "1231/1231 [==============================] - 1s 849us/step - loss: 0.0054 - accuracy: 0.9998 - val_loss: 0.0920 - val_accuracy: 0.9753\n",
      "Epoch 10/120\n",
      "1231/1231 [==============================] - 1s 874us/step - loss: 0.0052 - accuracy: 0.9999 - val_loss: 0.0915 - val_accuracy: 0.9753\n",
      "Epoch 11/120\n",
      "1231/1231 [==============================] - 1s 849us/step - loss: 0.0051 - accuracy: 0.9998 - val_loss: 0.0919 - val_accuracy: 0.9760\n",
      "Epoch 12/120\n",
      "1231/1231 [==============================] - 1s 857us/step - loss: 0.0050 - accuracy: 0.9999 - val_loss: 0.0919 - val_accuracy: 0.9755\n",
      "Epoch 13/120\n",
      "1231/1231 [==============================] - 1s 850us/step - loss: 0.0048 - accuracy: 0.9999 - val_loss: 0.0923 - val_accuracy: 0.9753\n",
      "Epoch 14/120\n",
      "1231/1231 [==============================] - 1s 867us/step - loss: 0.0047 - accuracy: 0.9999 - val_loss: 0.0926 - val_accuracy: 0.9752\n",
      "Epoch 15/120\n",
      "1231/1231 [==============================] - 1s 850us/step - loss: 0.0045 - accuracy: 0.9999 - val_loss: 0.0922 - val_accuracy: 0.9762\n",
      "Epoch 16/120\n",
      "1231/1231 [==============================] - 1s 859us/step - loss: 0.0043 - accuracy: 0.9999 - val_loss: 0.0932 - val_accuracy: 0.9759\n",
      "Epoch 17/120\n",
      "1231/1231 [==============================] - 1s 851us/step - loss: 0.0042 - accuracy: 0.9999 - val_loss: 0.0948 - val_accuracy: 0.9747\n",
      "Epoch 18/120\n",
      "1231/1231 [==============================] - 1s 859us/step - loss: 0.0042 - accuracy: 1.0000 - val_loss: 0.0927 - val_accuracy: 0.9755\n",
      "Epoch 19/120\n",
      "1231/1231 [==============================] - 1s 900us/step - loss: 0.0040 - accuracy: 1.0000 - val_loss: 0.0933 - val_accuracy: 0.9756\n",
      "Epoch 20/120\n",
      "1231/1231 [==============================] - 1s 874us/step - loss: 0.0039 - accuracy: 0.9999 - val_loss: 0.0939 - val_accuracy: 0.9757\n",
      "Epoch 21/120\n",
      "1231/1231 [==============================] - 1s 879us/step - loss: 0.0039 - accuracy: 1.0000 - val_loss: 0.0936 - val_accuracy: 0.9764\n",
      "Epoch 22/120\n",
      "1231/1231 [==============================] - 1s 895us/step - loss: 0.0038 - accuracy: 1.0000 - val_loss: 0.0934 - val_accuracy: 0.9760\n"
     ]
    }
   ],
   "source": [
    "history = model.fit(x_t, y_t, epochs=120,validation_data=(x_valid, y_valid),callbacks=[early_stopping_cb])"
   ]
  },
  {
   "cell_type": "code",
   "execution_count": 37,
   "metadata": {},
   "outputs": [
    {
     "name": "stdout",
     "output_type": "stream",
     "text": [
      "547/547 [==============================] - 0s 471us/step - loss: 0.0854 - accuracy: 0.9767\n"
     ]
    },
    {
     "data": {
      "text/plain": [
       "[0.0854458436369896, 0.9767428636550903]"
      ]
     },
     "execution_count": 37,
     "metadata": {},
     "output_type": "execute_result"
    }
   ],
   "source": [
    "model.evaluate(x_test, y_test)\n"
   ]
  }
 ],
 "metadata": {
  "kernelspec": {
   "display_name": "Python 3",
   "language": "python",
   "name": "python3"
  },
  "language_info": {
   "codemirror_mode": {
    "name": "ipython",
    "version": 3
   },
   "file_extension": ".py",
   "mimetype": "text/x-python",
   "name": "python",
   "nbconvert_exporter": "python",
   "pygments_lexer": "ipython3",
   "version": "3.8.5"
  }
 },
 "nbformat": 4,
 "nbformat_minor": 4
}
